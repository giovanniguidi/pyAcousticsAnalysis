{
 "cells": [
  {
   "cell_type": "code",
   "execution_count": 1,
   "id": "e6dcfe43",
   "metadata": {},
   "outputs": [],
   "source": [
    "import os\n",
    "#from PyPDF2 import PdfFileReader, PdfFileWriter\n",
    "\n",
    "from PIL import Image\n",
    "import pyautogui\n",
    "  \n",
    "import numpy as np\n",
    "import cv2\n",
    "import winsound\n",
    "import time\n",
    "import matplotlib.pyplot as plt\n",
    "import pyaudio\n",
    "import math\n",
    "#pdf = PdfFileReader(path)\n",
    "#from pysinewave import SineWave\n",
    "#sinewave.play()\n",
    "from pynput.keyboard import Key, Controller\n",
    "import sys\n",
    "import os\n",
    "sys.path.append(\"C:\\\\Users\\\\giogu\\\\Documents\\\\Acustica\\\\python_routines\")\n",
    "\n",
    "from resources.helper_functions import play_sound\n",
    "\n",
    "%load_ext autoreload\n",
    "%autoreload 2"
   ]
  },
  {
   "cell_type": "code",
   "execution_count": 2,
   "id": "9a0d5886",
   "metadata": {},
   "outputs": [],
   "source": [
    "images_path = \"./screenshot_norma\""
   ]
  },
  {
   "cell_type": "code",
   "execution_count": 3,
   "id": "27f424a9",
   "metadata": {},
   "outputs": [],
   "source": [
    "#test se funziona il suono\n",
    "play_sound(440, 3)"
   ]
  },
  {
   "cell_type": "code",
   "execution_count": 4,
   "id": "9f2ee569",
   "metadata": {},
   "outputs": [],
   "source": [
    "keyboard = Controller()\n",
    "num_pages = 22\n",
    "\n",
    "out_filename = \"./UNI_4871.pdf\""
   ]
  },
  {
   "cell_type": "code",
   "execution_count": 5,
   "id": "f4bead73",
   "metadata": {},
   "outputs": [],
   "source": [
    "for ind in range(1, num_pages + 1):\n",
    "#for ind in range(1, 2):\n",
    "    if ind == 1:\n",
    "        play_sound(220, 3)\n",
    "        time.sleep(3)\n",
    "        for _ in range(0, 3):\n",
    "            time.sleep(1)\n",
    "            play_sound(440, 0.2)\n",
    "        play_sound(880, 0.2)\n",
    "        \n",
    "#    if ind % 50 == 0:\n",
    "#        play_sound(440, 0.2)\n",
    "\n",
    "    image = pyautogui.screenshot()\n",
    "    image = cv2.cvtColor(np.array(image),\n",
    "                     cv2.COLOR_RGB2BGR)\n",
    "\n",
    "    keyboard.press(Key.page_down)\n",
    "\n",
    "    ind_img = str(ind)\n",
    "    \n",
    "    if len(ind_img) == 1:\n",
    "        ind_img = '0' + ind_img\n",
    "        \n",
    "    x_pad = 580        \n",
    "    image_out = image[:, x_pad:-x_pad, :]\n",
    "        \n",
    "    cv2.imwrite(\"./screenshot_norma/\" + ind_img + \".png\", image_out)\n",
    "    \n",
    "play_sound(220, 5)\n",
    "\n",
    "#unisci immagini in pdf\n",
    "images_name = sorted(os.listdir(images_path))\n",
    "imageList = []\n",
    "for image_name in images_name:\n",
    "    image = Image.open(os.path.join(images_path, image_name)) \n",
    "    image_new = image.convert('RGB')\n",
    "    imageList.append(image_new)\n",
    "    \n",
    "imageList[0].save(out_filename, save_all=True, append_images=imageList[1:])    \n",
    "\n",
    "#remove files\n",
    "for image_name in images_name:\n",
    "    os.remove(os.path.join(images_path, image_name))"
   ]
  },
  {
   "cell_type": "code",
   "execution_count": null,
   "id": "5e2bee77",
   "metadata": {},
   "outputs": [],
   "source": []
  }
 ],
 "metadata": {
  "kernelspec": {
   "display_name": "Python 3 (ipykernel)",
   "language": "python",
   "name": "python3"
  },
  "language_info": {
   "codemirror_mode": {
    "name": "ipython",
    "version": 3
   },
   "file_extension": ".py",
   "mimetype": "text/x-python",
   "name": "python",
   "nbconvert_exporter": "python",
   "pygments_lexer": "ipython3",
   "version": "3.10.9"
  }
 },
 "nbformat": 4,
 "nbformat_minor": 5
}
