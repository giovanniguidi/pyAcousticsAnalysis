{
 "cells": [
  {
   "cell_type": "code",
   "execution_count": 1,
   "id": "e22d1151",
   "metadata": {},
   "outputs": [],
   "source": [
    "import os\n",
    "import json"
   ]
  },
  {
   "cell_type": "markdown",
   "id": "73b82d16",
   "metadata": {},
   "source": [
    "### Folders"
   ]
  },
  {
   "cell_type": "code",
   "execution_count": 2,
   "id": "24a78638",
   "metadata": {},
   "outputs": [],
   "source": [
    "base_folder = \"../../test\""
   ]
  },
  {
   "cell_type": "code",
   "execution_count": 3,
   "id": "a19b18fd",
   "metadata": {},
   "outputs": [],
   "source": [
    "reports_folder = os.path.join(base_folder, \"./reports\")\n",
    "\n",
    "preprocessed_folder = os.path.join(reports_folder, \"preprocessed\")\n",
    "data_folder = os.path.join(reports_folder, \"data\")"
   ]
  },
  {
   "cell_type": "code",
   "execution_count": 4,
   "id": "4ea73ac2",
   "metadata": {},
   "outputs": [
    {
     "data": {
      "text/plain": [
       "['831_0003315-20240411 090814-447TH_M.016.xlsx',\n",
       " '831_0003315-20240411 091205-447TH_M.017.xlsx']"
      ]
     },
     "execution_count": 4,
     "metadata": {},
     "output_type": "execute_result"
    }
   ],
   "source": [
    "filenames = sorted([x for x in os.listdir(preprocessed_folder) if x.endswith(\".xlsx\")])\n",
    "filenames"
   ]
  },
  {
   "cell_type": "code",
   "execution_count": 5,
   "id": "cdd54a25",
   "metadata": {},
   "outputs": [],
   "source": [
    "out_list = [\n",
    "    {\n",
    "        \"filename\": '831_0003315-20240411 090814-447TH_M.016.xlsx',\n",
    "        \"-strumentazione-\": \"831 0003315\",\n",
    "        \"-note-\": \"Mascherato passaggio macchine\",\n",
    "        \"-punto!misura-\": \"P1\",\n",
    "        \"-foto-\": \"1710455435421\",\n",
    "    },\n",
    "    {\n",
    "        \"filename\": '831_0003315-20240411 091205-447TH_M.017.xlsx',\n",
    "        \"-strumentazione-\": \"831 0003315\",\n",
    "        \"-note-\": \"Mascherato passaggio macchine 2\",\n",
    "        \"-punto!misura-\": \"P2\",\n",
    "        \"-foto-\": \"1710455435395\",\n",
    "    },\n",
    "]"
   ]
  },
  {
   "cell_type": "code",
   "execution_count": 6,
   "id": "2ef67156",
   "metadata": {},
   "outputs": [
    {
     "name": "stdout",
     "output_type": "stream",
     "text": [
      "metadata ok\n"
     ]
    }
   ],
   "source": [
    "if len(filenames) != len(out_list):\n",
    "    print(\"some measures are missing!\")\n",
    "else:\n",
    "    print(\"metadata ok\")\n",
    "    \n",
    "with open(os.path.join(data_folder, \"metadata.json\"), 'w') as f:\n",
    "    json.dump(out_list, f)"
   ]
  },
  {
   "cell_type": "code",
   "execution_count": null,
   "id": "cd53c1e9",
   "metadata": {},
   "outputs": [],
   "source": []
  }
 ],
 "metadata": {
  "kernelspec": {
   "display_name": "Python 3 (ipykernel)",
   "language": "python",
   "name": "python3"
  },
  "language_info": {
   "codemirror_mode": {
    "name": "ipython",
    "version": 3
   },
   "file_extension": ".py",
   "mimetype": "text/x-python",
   "name": "python",
   "nbconvert_exporter": "python",
   "pygments_lexer": "ipython3",
   "version": "3.12.2"
  }
 },
 "nbformat": 4,
 "nbformat_minor": 5
}
