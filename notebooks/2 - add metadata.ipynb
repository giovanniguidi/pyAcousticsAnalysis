{
 "cells": [
  {
   "cell_type": "code",
   "execution_count": 1,
   "id": "e22d1151",
   "metadata": {},
   "outputs": [],
   "source": [
    "import os\n",
    "import json"
   ]
  },
  {
   "cell_type": "markdown",
   "id": "73b82d16",
   "metadata": {},
   "source": [
    "### Folders"
   ]
  },
  {
   "cell_type": "code",
   "execution_count": 2,
   "id": "24a78638",
   "metadata": {},
   "outputs": [],
   "source": [
    "base_folder = \"../../formificio_Padova\""
   ]
  },
  {
   "cell_type": "code",
   "execution_count": 3,
   "id": "a19b18fd",
   "metadata": {},
   "outputs": [],
   "source": [
    "reports_folder = os.path.join(base_folder, \"./reports\")\n",
    "\n",
    "preprocessed_folder = os.path.join(reports_folder, \"preprocessed\")\n",
    "data_folder = os.path.join(reports_folder, \"data\")"
   ]
  },
  {
   "cell_type": "code",
   "execution_count": 17,
   "id": "4ea73ac2",
   "metadata": {},
   "outputs": [
    {
     "data": {
      "text/plain": [
       "['831_0003315-20240314 164649-447TH_M.008.xlsx',\n",
       " '831_0003315-20240314 170303-447TH_M.009.xlsx',\n",
       " '831_0003315-20240314 171901-447TH_M.010.xlsx',\n",
       " '831_0003315-20240314 173756-447TH_M.012.xlsx',\n",
       " '831_0003315-20240314 175343-447TH_M.013.xlsx',\n",
       " '831_0003315-20240314 181055-447TH_M.014.xlsx',\n",
       " '831_0003315-20240314 182706-447TH_M.015.xlsx']"
      ]
     },
     "execution_count": 17,
     "metadata": {},
     "output_type": "execute_result"
    }
   ],
   "source": [
    "filenames = sorted([x for x in os.listdir(preprocessed_folder) if x.endswith(\".xlsx\")])\n",
    "filenames"
   ]
  },
  {
   "cell_type": "code",
   "execution_count": 18,
   "id": "cdd54a25",
   "metadata": {},
   "outputs": [],
   "source": [
    "out_list = [\n",
    "    {\n",
    "        \"filename\": '831_0003315-20240314 164649-447TH_M.008.xlsx',\n",
    "        \"-strumentazione-\": \"831 0003315\",\n",
    "        \"-note-\": \"Mascherato passaggio macchine\",\n",
    "        \"-punto!misura-\": \"P1\",\n",
    "        \"-foto-\": \"1710455435421\",\n",
    "    },\n",
    "    {\n",
    "        \"filename\": '831_0003315-20240314 170303-447TH_M.009.xlsx',\n",
    "        \"-strumentazione-\": \"831 0003315\",\n",
    "        \"-note-\": \"Mascherato passaggio macchine\",\n",
    "        \"-punto!misura-\": \"P2\",\n",
    "        \"-foto-\": \"1710455435395\",\n",
    "    },\n",
    "    {\n",
    "        \"filename\": '831_0003315-20240314 171901-447TH_M.010.xlsx',\n",
    "        \"-strumentazione-\": \"831 0003315\",\n",
    "        \"-note-\": \"Rumore aspiratore legno\",\n",
    "        \"-punto!misura-\": \"P3\",\n",
    "        \"-foto-\": \"1710455435292\",\n",
    "    },\n",
    "    {\n",
    "        \"filename\": '831_0003315-20240314 173756-447TH_M.012.xlsx',\n",
    "        \"-strumentazione-\": \"831 0003315\",\n",
    "        \"-note-\": \"Spegnimento di un impianto dopo 5 min\",\n",
    "        \"-punto!misura-\": \"P4\",\n",
    "        \"-foto-\": \"1710455435180\",\n",
    "    },\n",
    "    {\n",
    "        \"filename\": '831_0003315-20240314 175343-447TH_M.013.xlsx',\n",
    "        \"-strumentazione-\": \"831 0003315\",\n",
    "        \"-note-\": \"Rumore di un flessibile in altro stabilimento\",\n",
    "        \"-punto!misura-\": \"P5\",\n",
    "        \"-foto-\": \"1710455435111\",\n",
    "    },\n",
    "    {\n",
    "        \"filename\": '831_0003315-20240314 181055-447TH_M.014.xlsx',\n",
    "        \"-strumentazione-\": \"831 0003315\",\n",
    "        \"-note-\": \"Mascherato rumore camion in altro stabilimento\",\n",
    "        \"-punto!misura-\": \"P6\",\n",
    "        \"-foto-\": \"1710455435018\",\n",
    "    },\n",
    "    {\n",
    "        \"filename\": '831_0003315-20240314 182706-447TH_M.015.xlsx',\n",
    "        \"-strumentazione-\": \"831 0003315\",\n",
    "        \"-note-\": \"Presenza di voci provenienti dall'esterno\",\n",
    "        \"-punto!misura-\": \"P7\",\n",
    "        \"-foto-\": \"foto_P7\",\n",
    "    },    \n",
    "]"
   ]
  },
  {
   "cell_type": "code",
   "execution_count": 19,
   "id": "2ef67156",
   "metadata": {},
   "outputs": [
    {
     "name": "stdout",
     "output_type": "stream",
     "text": [
      "metadata ok\n"
     ]
    }
   ],
   "source": [
    "if len(filenames) != len(out_list):\n",
    "    print(\"some measures are missing!\")\n",
    "else:\n",
    "    print(\"metadata ok\")\n",
    "    \n",
    "with open(os.path.join(data_folder, \"metadata.json\"), 'w') as f:\n",
    "    json.dump(out_list, f)"
   ]
  },
  {
   "cell_type": "code",
   "execution_count": null,
   "id": "cd53c1e9",
   "metadata": {},
   "outputs": [],
   "source": []
  }
 ],
 "metadata": {
  "kernelspec": {
   "display_name": "Python 3 (ipykernel)",
   "language": "python",
   "name": "python3"
  },
  "language_info": {
   "codemirror_mode": {
    "name": "ipython",
    "version": 3
   },
   "file_extension": ".py",
   "mimetype": "text/x-python",
   "name": "python",
   "nbconvert_exporter": "python",
   "pygments_lexer": "ipython3",
   "version": "3.12.2"
  }
 },
 "nbformat": 4,
 "nbformat_minor": 5
}
