{
 "cells": [
  {
   "cell_type": "code",
   "execution_count": 1,
   "id": "914f766d",
   "metadata": {},
   "outputs": [],
   "source": [
    "import numpy as np\n",
    "from math import acos, pi\n",
    "import matplotlib.pyplot as plt\n",
    "import os\n",
    "import pandas as pd\n",
    "import json\n",
    "\n",
    "import sys\n",
    "sys.path.append(\"../../\")\n",
    "\n",
    "#project_folder = \"C:\\\\Users\\\\giogu\\\\Documents\\\\Acustica\\\\python_routines\" \n",
    "#sys.path.append(project_folder)\n",
    "\n",
    "#from pyEnvAcoustics.instruments.LD_831.read_data import read_LD_831_data\n",
    "#from pyEnvAcoustics.instruments.commons import add_masks_to_df, get_masks\n",
    "\n",
    "from pyAcousticsAnalysis.instruments.LD_831.read_data import read_LD_831_data\n",
    "from pyAcousticsAnalysis.instruments.commons import add_masks_to_df, get_masks\n",
    "\n",
    "#from analisi_misure.helper_functions import save_LD831_data, save_masks, get_masks, read_LD831_data_new, read_LD831_data_v2\n",
    "from matplotlib.widgets import SpanSelector\n",
    "\n",
    "#from analisi_misure.helper_functions import get_mean_levels, get_max_levels, get_min_levels, save_data, read_data\n",
    "\n",
    "%matplotlib widget\n",
    "\n",
    "%load_ext autoreload\n",
    "%autoreload 2"
   ]
  },
  {
   "cell_type": "markdown",
   "id": "9530b6d5",
   "metadata": {},
   "source": [
    "### GUI functions"
   ]
  },
  {
   "cell_type": "code",
   "execution_count": 2,
   "id": "55406b1a",
   "metadata": {},
   "outputs": [],
   "source": [
    "def onselect_main_plot(xmin, xmax):\n",
    "    indmin, indmax = np.searchsorted(x, (xmin, xmax))\n",
    "    indmax = min(len(x) - 1, indmax)\n",
    "    thisx = x[indmin:indmax]\n",
    "#    thisy = y[indmin:indmax]\n",
    "\n",
    "    ax_1.set_xlim(thisx[0], thisx[-1])\n",
    "    fig.canvas.draw()\n",
    "    \n",
    "#    cid = fig.canvas.mpl_connect('button_press_event', onclick)"
   ]
  },
  {
   "cell_type": "code",
   "execution_count": 3,
   "id": "1aea1676",
   "metadata": {},
   "outputs": [],
   "source": [
    "def onselect_zoom_plot(xmin, xmax):\n",
    "    indmin, indmax = np.searchsorted(x, (xmin, xmax))\n",
    "    indmax = min(len(x) - 1, indmax)\n",
    "\n",
    "    thisx = x[indmin:indmax]\n",
    "#    thisy = y[indmin:indmax]\n",
    "    list_masks.append((thisx[0], thisx[-1]))\n",
    "#    save_masks(list_masks, df)\n",
    "\n",
    "    ax_0.plot(x, y, color=\"blue\")    \n",
    "    ax_0.plot(df[df['masked']==False]['timestamp'].values, df[df['masked']==False][channel].expanding().mean(), \n",
    "              color=\"black\",  linewidth=3)\n",
    "\n",
    "    for mask in list_masks:\n",
    "        ax_1.plot([mask[0], mask[1]], [L_max, L_max], linewidth=2, color='red')    \n",
    "        ax_1.plot([mask[0], mask[1]], [L_min, L_min], linewidth=2, color='red')    \n",
    "        ax_1.plot([mask[0], mask[0]], [L_min, L_max], linewidth=2, color='red')    \n",
    "        ax_1.plot([mask[1], mask[1]], [L_min, L_max], linewidth=2, color='red')    \n",
    "\n",
    "    for mask in list_masks:\n",
    "        ax_0.plot([mask[0], mask[1]], [L_max, L_max], linewidth=2, color='red')    \n",
    "        ax_0.plot([mask[0], mask[1]], [L_min, L_min], linewidth=2, color='red')    \n",
    "        ax_0.plot([mask[0], mask[0]], [L_min, L_max], linewidth=2, color='red')    \n",
    "        ax_0.plot([mask[1], mask[1]], [L_min, L_max], linewidth=2, color='red')    \n",
    "\n",
    "    fig.canvas.draw()"
   ]
  },
  {
   "cell_type": "code",
   "execution_count": 4,
   "id": "3de61143",
   "metadata": {},
   "outputs": [],
   "source": [
    "def onclick(event):\n",
    "    if event.button == 3:\n",
    "        x_click = event.xdata\n",
    "        ind_to_remove = None\n",
    "\n",
    "        for ind_mask, mask in enumerate(list_masks):\n",
    "            if x_click > mask[0] and x_click < mask[1]:\n",
    "                ind_to_remove = ind_mask     \n",
    "        del(list_masks[ind_to_remove])\n",
    "        \n",
    "#    save_masks(list_masks, df)\n",
    "\n",
    "    #redraw axis 0\n",
    "    ax_0.cla()  \n",
    "    ax_0.plot(x, y, color=\"blue\")\n",
    "    ax_0.plot(df[df['masked']==False]['timestamp'].values, df[df['masked']==False][channel].expanding().mean(), \n",
    "              color=\"black\",  linewidth=3)\n",
    "\n",
    "    ax_0.set_title(\"Time history\")\n",
    "    for mask in list_masks:\n",
    "        ax_0.plot([mask[0], mask[1]], [L_max, L_max], linewidth=2, color='red')    \n",
    "        ax_0.plot([mask[0], mask[1]], [L_min, L_min], linewidth=2, color='red')    \n",
    "        ax_0.plot([mask[0], mask[0]], [L_min, L_max], linewidth=2, color='red')    \n",
    "        ax_0.plot([mask[1], mask[1]], [L_min, L_max], linewidth=2, color='red')    \n",
    "\n",
    "    #redraw axis 1\n",
    "    ax_1_lim = ax_1.get_xlim()\n",
    "    ax_1.cla()      \n",
    "    ax_1.set_xlim(ax_1_lim)\n",
    "    ax_1.plot(x, y, color=\"blue\")\n",
    "    ax_1.plot(df[df['masked']==False]['timestamp'].values, df[df['masked']==False][channel].expanding().mean(), \n",
    "              color=\"black\",  linewidth=3)\n",
    "\n",
    "    ax_1.set_title(\"zoom\")\n",
    "    for mask in list_masks:\n",
    "        ax_1.plot([mask[0], mask[1]], [L_max, L_max], linewidth=2, color='red')    \n",
    "        ax_1.plot([mask[0], mask[1]], [L_min, L_min], linewidth=2, color='red')    \n",
    "        ax_1.plot([mask[0], mask[0]], [L_min, L_max], linewidth=2, color='red')    \n",
    "        ax_1.plot([mask[1], mask[1]], [L_min, L_max], linewidth=2, color='red')    "
   ]
  },
  {
   "cell_type": "markdown",
   "id": "74285e5d",
   "metadata": {},
   "source": [
    "### Folders"
   ]
  },
  {
   "cell_type": "code",
   "execution_count": 5,
   "id": "b8188b23",
   "metadata": {},
   "outputs": [],
   "source": [
    "base_folder = \"../../formificio_Pistoia\""
   ]
  },
  {
   "cell_type": "code",
   "execution_count": 6,
   "id": "489c189a",
   "metadata": {},
   "outputs": [],
   "source": [
    "misure_folder = os.path.join(base_folder, \"./misure\")\n",
    "\n",
    "reports_folder = os.path.join(base_folder, \"./reports\")\n",
    "data_folder = os.path.join(reports_folder, \"data\")\n",
    "os.makedirs(data_folder, exist_ok=True) \n",
    "preprocessed_folder = os.path.join(reports_folder, \"preprocessed\")\n",
    "os.makedirs(preprocessed_folder, exist_ok=True) "
   ]
  },
  {
   "cell_type": "code",
   "execution_count": 7,
   "id": "95630e34",
   "metadata": {},
   "outputs": [
    {
     "name": "stdout",
     "output_type": "stream",
     "text": [
      "num files: 10\n"
     ]
    }
   ],
   "source": [
    "#filenames = sorted([x for x in os.listdir(misure_folder) if x.endswith(\".xlsx\")])\n",
    "#print(filenames)\n",
    "with open(os.path.join(base_folder, \"metadata.json\"), 'r') as f:\n",
    "    metadata = json.load(f)\n",
    "\n",
    "filenames = [x['filename'] for x in metadata]\n",
    "\n",
    "print(\"num files:\", len(filenames))"
   ]
  },
  {
   "cell_type": "code",
   "execution_count": 8,
   "id": "70c83a53",
   "metadata": {},
   "outputs": [
    {
     "name": "stdout",
     "output_type": "stream",
     "text": [
      "831_0003315-20240621 143901-447TH_M.046.xlsx\n",
      "831_0003315-20240621 145009-447TH_M.047.xlsx\n",
      "831_0003315-20240621 150538-447TH_M.048.xlsx\n",
      "831_0003315-20240621 151626-447TH_M.049.xlsx\n",
      "831_0003315-20240621 152737-447TH_M.050.xlsx\n",
      "831_0003315-20240621 153806-447TH_M.051.xlsx\n",
      "831_0003315-20240621 154949-447TH_M.052.xlsx\n",
      "831_0003315-20240621 164812-447TH_M.055.xlsx\n",
      "831_0003315-20240621 160722-447TH_M.053.xlsx\n",
      "831_0003315-20240621 162244-447TH_M.054.xlsx\n",
      "end\n"
     ]
    }
   ],
   "source": [
    "for filename in filenames[:]:\n",
    "    print(filename)\n",
    "    nome_misura = filename.split(\"-\")[-1].replace(\".xlsx\", \".s\")\n",
    "    file_path = os.path.join(misure_folder, filename)\n",
    "    \n",
    "    df = read_LD_831_data(file_path)\n",
    "    \n",
    "    list_masks = []\n",
    "\n",
    "    channel = \"LAeq\"\n",
    "\n",
    "    x = np.round(df['timestamp'].values, 2)\n",
    "    y = df[channel].values\n",
    "    y_running = df[channel].expanding().mean()\n",
    "    L_max = df[channel].max()\n",
    "    L_min = df[channel].min()\n",
    "\n",
    "    fig = plt.figure(figsize=(8, 6))\n",
    "    ax_0 = fig.add_subplot(2, 1, 1, facecolor='#FFFFCC')\n",
    "    ax_1 = fig.add_subplot(2, 1, 2, facecolor='#FFFFCC')\n",
    "    #ax_2 = fig.add_subplot(3, 1, 3, facecolor='#FFFFCC')\n",
    "\n",
    "    ax_0.plot(x, y, color=\"blue\")\n",
    "    ax_0.plot(df[df['masked']==False]['timestamp'].values, df[df['masked']==False][channel].expanding().mean(), color=\"black\",  linewidth=3)\n",
    "\n",
    "    ax_0.set_title(\"Time history\")\n",
    "    ax_1.plot(x, y, color=\"blue\")\n",
    "    ax_1.plot(df[df['masked']==False]['timestamp'].values, df[df['masked']==False][channel].expanding().mean(), color=\"black\",  linewidth=3)\n",
    "    ax_1.set_title(\"zoom\")\n",
    "\n",
    "    for mask in list_masks:\n",
    "        ax_1.plot([mask[0], mask[1]], [L_max, L_max], linewidth=2, color='red')    \n",
    "        ax_1.plot([mask[0], mask[1]], [L_min, L_min], linewidth=2, color='red')    \n",
    "        ax_1.plot([mask[0], mask[0]], [L_min, L_max], linewidth=2, color='red')    \n",
    "        ax_1.plot([mask[1], mask[1]], [L_min, L_max], linewidth=2, color='red')    \n",
    "\n",
    "    for mask in list_masks:\n",
    "        ax_0.plot([mask[0], mask[1]], [L_max, L_max], linewidth=2, color='red')    \n",
    "        ax_0.plot([mask[0], mask[1]], [L_min, L_min], linewidth=2, color='red')    \n",
    "        ax_0.plot([mask[0], mask[0]], [L_min, L_max], linewidth=2, color='red')    \n",
    "        ax_0.plot([mask[1], mask[1]], [L_min, L_max], linewidth=2, color='red')    \n",
    "\n",
    "\n",
    "    #fig.canvas.mpl_connect('button_press_event', onclick)\n",
    "\n",
    "    # set useblit True on gtkagg for enhanced performance\n",
    "    span_1 = SpanSelector(ax_0, onselect_main_plot, 'horizontal', useblit=True, button=1, ignore_event_outside=False, \n",
    "                          props=dict(alpha=0.5, facecolor='red'), interactive = True)\n",
    "    span_2 = SpanSelector(ax_1, onselect_zoom_plot, 'horizontal', useblit=True, button=1, ignore_event_outside=False, \n",
    "                          props=dict(alpha=0.5, facecolor='red'))\n",
    "    #cid = fig.canvas.mpl_connect('button_press_event', onclick)\n",
    "    #cid = fig.canvas.mpl_connect('button_press_event', mouseDoubleClick)\n",
    "\n",
    "    cid = fig.canvas.mpl_connect('button_press_event', onclick)\n",
    "\n",
    "#    plt.show()\n",
    "    \n",
    "    add_masks_to_df(list_masks, df)\n",
    "    df.to_excel(os.path.join(preprocessed_folder, filename), sheet_name=\"Profilo storico\")  \n",
    "    plt.close(fig)\n",
    "\n",
    "print(\"end\")"
   ]
  },
  {
   "cell_type": "code",
   "execution_count": null,
   "id": "542a45d8-b8d0-4646-ad36-b33115fb4f4e",
   "metadata": {},
   "outputs": [],
   "source": []
  },
  {
   "cell_type": "code",
   "execution_count": null,
   "id": "5dda2b03-6b5f-48e7-9951-608afc934caf",
   "metadata": {},
   "outputs": [],
   "source": []
  },
  {
   "cell_type": "code",
   "execution_count": null,
   "id": "7384ac48-9acc-4c8e-b3fd-f41316723533",
   "metadata": {},
   "outputs": [],
   "source": []
  },
  {
   "cell_type": "code",
   "execution_count": null,
   "id": "a41e0275-2bf4-41e1-ae50-c24f363bd6d8",
   "metadata": {},
   "outputs": [],
   "source": []
  },
  {
   "cell_type": "code",
   "execution_count": null,
   "id": "7cf456ab-abc0-43f0-be84-15f9436b0522",
   "metadata": {},
   "outputs": [],
   "source": []
  },
  {
   "cell_type": "code",
   "execution_count": 22,
   "id": "ab4708a9",
   "metadata": {},
   "outputs": [],
   "source": [
    "add_masks_to_df(list_masks, df)\n",
    "df.to_excel(os.path.join(preprocessed_folder, filename), sheet_name=\"Profilo storico\")  "
   ]
  },
  {
   "cell_type": "code",
   "execution_count": null,
   "id": "0c1d4501",
   "metadata": {},
   "outputs": [],
   "source": []
  },
  {
   "cell_type": "code",
   "execution_count": null,
   "id": "4a840633",
   "metadata": {},
   "outputs": [],
   "source": []
  },
  {
   "cell_type": "code",
   "execution_count": null,
   "id": "ff447e16",
   "metadata": {},
   "outputs": [],
   "source": []
  },
  {
   "cell_type": "code",
   "execution_count": null,
   "id": "83772c04",
   "metadata": {},
   "outputs": [],
   "source": []
  },
  {
   "cell_type": "code",
   "execution_count": null,
   "id": "f72630cc",
   "metadata": {},
   "outputs": [],
   "source": []
  },
  {
   "cell_type": "code",
   "execution_count": null,
   "id": "bba9428b",
   "metadata": {},
   "outputs": [],
   "source": []
  },
  {
   "cell_type": "code",
   "execution_count": null,
   "id": "c0436c18",
   "metadata": {},
   "outputs": [],
   "source": [
    "file_path = os.path.join(base_folder, filename)\n",
    "df = read_LD_831_data(file_path)"
   ]
  },
  {
   "cell_type": "code",
   "execution_count": null,
   "id": "d6cd3951",
   "metadata": {},
   "outputs": [],
   "source": [
    "#df"
   ]
  },
  {
   "cell_type": "code",
   "execution_count": null,
   "id": "6c60ace0",
   "metadata": {},
   "outputs": [],
   "source": [
    "#read processed data\n",
    "\n",
    "#data_dict, list_masks = read_data(\"test_data.xlsx\")"
   ]
  },
  {
   "cell_type": "code",
   "execution_count": null,
   "id": "287f21e6",
   "metadata": {},
   "outputs": [],
   "source": [
    "#list_masks"
   ]
  },
  {
   "cell_type": "markdown",
   "id": "146d4a94",
   "metadata": {},
   "source": [
    "### Maschera misura (controllare se funziona aggiornamento running Leq)"
   ]
  },
  {
   "cell_type": "code",
   "execution_count": null,
   "id": "b9ea028e",
   "metadata": {},
   "outputs": [],
   "source": []
  },
  {
   "cell_type": "code",
   "execution_count": null,
   "id": "9b331b74",
   "metadata": {},
   "outputs": [],
   "source": []
  },
  {
   "cell_type": "code",
   "execution_count": null,
   "id": "80fdc712",
   "metadata": {},
   "outputs": [],
   "source": [
    "     "
   ]
  },
  {
   "cell_type": "code",
   "execution_count": null,
   "id": "02d6756c",
   "metadata": {},
   "outputs": [],
   "source": []
  },
  {
   "cell_type": "code",
   "execution_count": null,
   "id": "eadae699",
   "metadata": {},
   "outputs": [],
   "source": []
  },
  {
   "cell_type": "markdown",
   "id": "daea8178",
   "metadata": {},
   "source": [
    "### Save data with masks"
   ]
  },
  {
   "cell_type": "code",
   "execution_count": null,
   "id": "a47b6411",
   "metadata": {},
   "outputs": [],
   "source": [
    "list_masks"
   ]
  },
  {
   "cell_type": "code",
   "execution_count": null,
   "id": "a09b70bc",
   "metadata": {},
   "outputs": [],
   "source": [
    "save_masks(list_masks, df)"
   ]
  },
  {
   "cell_type": "code",
   "execution_count": null,
   "id": "5ae6ba64",
   "metadata": {},
   "outputs": [],
   "source": [
    "#df[df['masked'] == True]"
   ]
  },
  {
   "cell_type": "markdown",
   "id": "c6862701",
   "metadata": {},
   "source": [
    "### Dump excel"
   ]
  },
  {
   "cell_type": "code",
   "execution_count": null,
   "id": "4a112d43",
   "metadata": {},
   "outputs": [],
   "source": [
    "save_data(data_dict, \"test_data.xlsx\")"
   ]
  },
  {
   "cell_type": "code",
   "execution_count": null,
   "id": "1e7eb868",
   "metadata": {},
   "outputs": [],
   "source": [
    "#get_masks(df)"
   ]
  },
  {
   "cell_type": "code",
   "execution_count": null,
   "id": "b0408e02",
   "metadata": {},
   "outputs": [],
   "source": [
    "#df[df['mascherato']].shape"
   ]
  }
 ],
 "metadata": {
  "kernelspec": {
   "display_name": "Python 3 (ipykernel)",
   "language": "python",
   "name": "python3"
  },
  "language_info": {
   "codemirror_mode": {
    "name": "ipython",
    "version": 3
   },
   "file_extension": ".py",
   "mimetype": "text/x-python",
   "name": "python",
   "nbconvert_exporter": "python",
   "pygments_lexer": "ipython3",
   "version": "3.12.2"
  }
 },
 "nbformat": 4,
 "nbformat_minor": 5
}
