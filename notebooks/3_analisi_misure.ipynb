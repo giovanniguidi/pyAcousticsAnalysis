{
 "cells": [
  {
   "cell_type": "code",
   "execution_count": 1,
   "id": "82f9e80c",
   "metadata": {},
   "outputs": [],
   "source": [
    "import numpy as np\n",
    "#import matplotlib.pyplot as plt\n",
    "#import matplotlib as mpl\n",
    "#mpl.rcParams['axes.linewidth'] = 2\n",
    "#import pandas as pd\n",
    "#import math \n",
    "import os\n",
    "import pickle\n",
    "#import scipy.ndimage as ndimage\n",
    "#from matplotlib.ticker import AutoMinorLocator\n",
    "import json\n",
    "import sys\n",
    "from pdf2image import convert_from_path\n",
    "#project_folder = \"C:\\\\Users\\\\giogu\\\\Documents\\\\Acustica\\\\python_routines\" \n",
    "#sys.path.append(project_folder)\n",
    "\n",
    "sys.path.append(\"../../\")\n",
    "\n",
    "from pyAcousticsAnalysis.instruments.LD_831.read_data import read_LD_831_data\n",
    "from pyAcousticsAnalysis.instruments.commons import read_preprocessed_data#, get_masks\n",
    "from pyAcousticsAnalysis.utils.helper_functions import get_mean_levels, get_min_levels, generate_freq_third_octaves, logarithmic_average\n",
    "#from pyEnvAcoustics.plotting.plot_functions import plot_mean_Leq, get_freq_x_ticks\n",
    "from pyAcousticsAnalysis.plotting.plot_SPL import plot_SPL\n",
    "from pyAcousticsAnalysis.plotting.plot_time_history import plot_time_history\n",
    "from pyAcousticsAnalysis.plotting.plot_min_SPL import plot_min_SPL\n",
    "from pyAcousticsAnalysis.plotting.helper_functions import calculate_quantiles, calculate_global_quantities\n",
    "from pyAcousticsAnalysis.plotting.latex_functions import create_pdfs, merge_pdfs\n",
    "\n",
    "%load_ext autoreload\n",
    "%autoreload 2"
   ]
  },
  {
   "cell_type": "markdown",
   "id": "f4dc8a59",
   "metadata": {},
   "source": [
    "### Folders"
   ]
  },
  {
   "cell_type": "code",
   "execution_count": 3,
   "id": "147d1ca6",
   "metadata": {},
   "outputs": [],
   "source": [
    "base_folder = \"../../formificio_Pistoia\""
   ]
  },
  {
   "cell_type": "code",
   "execution_count": 4,
   "id": "6b64cb6f",
   "metadata": {},
   "outputs": [],
   "source": [
    "foto_folder =  os.path.join(base_folder, \"foto\").replace(\"\\\\\", \"/\")\n",
    "#logo_folder =  os.path.join(base_folder, \"logo\").replace(\"\\\\\", \"/\")\n",
    "logo_folder =  os.path.join(base_folder, \"../logos\").replace(\"\\\\\", \"/\")\n",
    "reports_folder =  os.path.join(base_folder, \"reports\").replace(\"\\\\\", \"/\")\n",
    "preprocessed_folder = os.path.join(reports_folder, \"preprocessed\").replace(\"\\\\\", \"/\")\n",
    "data_folder = os.path.join(reports_folder, \"data\").replace(\"\\\\\", \"/\")\n",
    "\n",
    "plots_folder = os.path.join(reports_folder, \"plots\").replace(\"\\\\\", \"/\")\n",
    "os.makedirs(plots_folder, exist_ok=True) "
   ]
  },
  {
   "cell_type": "code",
   "execution_count": 5,
   "id": "845b8152-2d52-4f8e-a21a-9716816b0304",
   "metadata": {},
   "outputs": [],
   "source": [
    "with open(os.path.join(base_folder, \"metadata.json\"), 'r') as f:\n",
    "    metadata = json.load(f)"
   ]
  },
  {
   "cell_type": "code",
   "execution_count": 6,
   "id": "9090685b",
   "metadata": {
    "scrolled": true
   },
   "outputs": [
    {
     "name": "stderr",
     "output_type": "stream",
     "text": [
      "<>:27: SyntaxWarning: invalid escape sequence '\\_'\n",
      "<>:27: SyntaxWarning: invalid escape sequence '\\_'\n",
      "/tmp/ipykernel_36126/1862352144.py:27: SyntaxWarning: invalid escape sequence '\\_'\n",
      "  \"-nome!misura-\": nome_misura.replace(\"_\", \"\\_\"),\n"
     ]
    },
    {
     "name": "stdout",
     "output_type": "stream",
     "text": [
      "831_0003315-20240621 143901-447TH_M.046.xlsx\n",
      "831_0003315-20240621 145009-447TH_M.047.xlsx\n",
      "831_0003315-20240621 150538-447TH_M.048.xlsx\n",
      "831_0003315-20240621 151626-447TH_M.049.xlsx\n",
      "831_0003315-20240621 152737-447TH_M.050.xlsx\n",
      "831_0003315-20240621 153806-447TH_M.051.xlsx\n",
      "831_0003315-20240621 154949-447TH_M.052.xlsx\n",
      "831_0003315-20240621 164812-447TH_M.055.xlsx\n",
      "831_0003315-20240621 160722-447TH_M.053.xlsx\n",
      "831_0003315-20240621 162244-447TH_M.054.xlsx\n",
      "end\n"
     ]
    }
   ],
   "source": [
    "#filenames = sorted([x for x in os.listdir(preprocessed_folder) if x.endswith(\".xlsx\")])\n",
    "filenames = [x['filename'] for x in metadata]\n",
    "\n",
    "out_list = []\n",
    "\n",
    "for filename in filenames[:]:\n",
    "    print(filename)\n",
    "    nome_misura = filename.split(\"-\")[-1].replace(\".xlsx\", \".s\")\n",
    "    file_path = os.path.join(preprocessed_folder, filename)\n",
    "    \n",
    "#    df = read_LD_831_data(file_path)\n",
    "    df = read_preprocessed_data(file_path)\n",
    "        \n",
    "    #plot\n",
    "    plot_SPL(nome_misura, filename, df, plots_folder, show = False)\n",
    "    plot_time_history(nome_misura, filename, df, plots_folder, find_impulses = False, show = False)    \n",
    "    plot_min_SPL(nome_misura, filename, df, plots_folder, show = False)\n",
    "    quantiles = calculate_quantiles(df)\n",
    "    global_quantities = calculate_global_quantities(df)\n",
    "#    print(quantiles)\n",
    "    \n",
    "    out_dict = {\"filename\": filename, \n",
    "                \"fields\": \n",
    "                    {\n",
    "#                    \"-logo-\": logo_folder + \"/\" + os.listdir(logo_folder)[0][:-4], \n",
    "                    \"-logo-\": logo_folder + \"/logo_nier\",                     \n",
    "                    \"-nome!misura-\": nome_misura.replace(\"_\", \"\\_\"), \n",
    "                   \"-data!ora-\": str(df.loc[0, 'Data']),\n",
    "                    \"-SPL!plot-\": plots_folder + \"/\" + filename[:-5] + \"_SPL\",                       \n",
    "#                    \"-time!history!plot-\": \"../plots/\" + filename[:-5] + \"_time_history\",\n",
    "                    \"-time!history!plot-\":  plots_folder + \"/\" +filename[:-5] + \"_time_history\",\n",
    "                    \"-SPL!min!plot-\":  plots_folder + \"/\" + filename[:-5] + \"_SPL_min\"\n",
    "                    }\n",
    "               }    \n",
    "    \n",
    "    #add quantiles\n",
    "    out_dict['fields'].update(quantiles)\n",
    "\n",
    "    #add global_quantities\n",
    "    out_dict['fields'].update(global_quantities)\n",
    "    \n",
    "    #add metadata    \n",
    "    metadata_misura = [x for x in metadata if x['filename'] == out_dict['filename']][0]\n",
    "    out_dict['fields'].update({k: v for k, v in metadata_misura.items() if k != \"filename\"})\n",
    "\n",
    "    #update foto path\n",
    "    if out_dict['fields']['-foto-'] != \"\":\n",
    "        out_dict['fields']['-foto-'] = foto_folder + \"/\" + out_dict['fields']['-foto-']\n",
    "    else:\n",
    "#        print(\"here\")\n",
    "        out_dict['fields']['-foto-'] = logo_folder + \"/\" + \"blank_photo\" \n",
    "        \n",
    "    #append results\n",
    "    out_list.append(out_dict)\n",
    "\n",
    "#    print(metadata_misura)\n",
    "\n",
    "#    print(df[df['masked'] == True].shape)\n",
    "    \n",
    "with open(os.path.join(data_folder, \"latex_data.json\"), 'w') as f:\n",
    "    json.dump(out_list, f)\n",
    "\n",
    "print(\"end\")"
   ]
  },
  {
   "cell_type": "markdown",
   "id": "2a985c64",
   "metadata": {},
   "source": [
    "### Create latex and pdfs"
   ]
  },
  {
   "cell_type": "code",
   "execution_count": 7,
   "id": "797eda0e",
   "metadata": {},
   "outputs": [],
   "source": [
    "templates_folder = os.path.join(\"../\" \"assets\", \"latex_templates\", \"ambientale_447\")"
   ]
  },
  {
   "cell_type": "code",
   "execution_count": 8,
   "id": "9ee3c98a",
   "metadata": {},
   "outputs": [
    {
     "name": "stdout",
     "output_type": "stream",
     "text": [
      "creating latex for: 831_0003315-20240621 143901-447TH_M.046.xlsx\n",
      "creating latex for: 831_0003315-20240621 145009-447TH_M.047.xlsx\n",
      "creating latex for: 831_0003315-20240621 150538-447TH_M.048.xlsx\n",
      "creating latex for: 831_0003315-20240621 151626-447TH_M.049.xlsx\n",
      "creating latex for: 831_0003315-20240621 152737-447TH_M.050.xlsx\n",
      "creating latex for: 831_0003315-20240621 153806-447TH_M.051.xlsx\n",
      "creating latex for: 831_0003315-20240621 154949-447TH_M.052.xlsx\n",
      "creating latex for: 831_0003315-20240621 164812-447TH_M.055.xlsx\n",
      "creating latex for: 831_0003315-20240621 160722-447TH_M.053.xlsx\n",
      "creating latex for: 831_0003315-20240621 162244-447TH_M.054.xlsx\n",
      "- all latex files created\n"
     ]
    }
   ],
   "source": [
    "create_pdfs(templates_folder, reports_folder)"
   ]
  },
  {
   "cell_type": "code",
   "execution_count": 9,
   "id": "246d6ed1-90d3-4698-8d13-237a1e89cffb",
   "metadata": {},
   "outputs": [
    {
     "name": "stdout",
     "output_type": "stream",
     "text": [
      "merging 831_0003315-20240621 143901-447TH_M.046.pdf\n",
      "merging 831_0003315-20240621 145009-447TH_M.047.pdf\n",
      "merging 831_0003315-20240621 150538-447TH_M.048.pdf\n",
      "merging 831_0003315-20240621 151626-447TH_M.049.pdf\n",
      "merging 831_0003315-20240621 152737-447TH_M.050.pdf\n",
      "merging 831_0003315-20240621 153806-447TH_M.051.pdf\n",
      "merging 831_0003315-20240621 154949-447TH_M.052.pdf\n",
      "merging 831_0003315-20240621 164812-447TH_M.055.pdf\n",
      "merging 831_0003315-20240621 160722-447TH_M.053.pdf\n",
      "merging 831_0003315-20240621 162244-447TH_M.054.pdf\n",
      "- all pdf merged\n"
     ]
    }
   ],
   "source": [
    "merge_pdfs(reports_folder, out_filename = \"misure.pdf\")"
   ]
  },
  {
   "cell_type": "markdown",
   "id": "dc173cf8-88af-4e11-8487-fd25277ef1f8",
   "metadata": {},
   "source": [
    "### Crop pdfs"
   ]
  },
  {
   "cell_type": "code",
   "execution_count": 10,
   "id": "ebf5fe9d-f000-435e-ac65-7a98d42651ba",
   "metadata": {},
   "outputs": [],
   "source": [
    "images = convert_from_path(os.path.join(reports_folder, \"misure.pdf\"))"
   ]
  },
  {
   "cell_type": "code",
   "execution_count": 11,
   "id": "f30afb8d-7089-4cfd-91c1-753b49ced8c4",
   "metadata": {},
   "outputs": [
    {
     "name": "stdout",
     "output_type": "stream",
     "text": [
      "end\n"
     ]
    }
   ],
   "source": [
    "crop_folder = os.path.join(reports_folder, \"pdf_crops\")\n",
    "os.makedirs(crop_folder, exist_ok=True) \n",
    "\n",
    "for ind, image in enumerate(images[0:]):\n",
    "\n",
    "    width, height = image.size\n",
    "\n",
    "    width_crop = 80\n",
    "    height_crop = 10\n",
    "    \n",
    "    left = width_crop\n",
    "    top = height_crop\n",
    "    right = width - width_crop\n",
    "    bottom = height - height_crop\n",
    "\n",
    "    cropped_image = image.crop((left, top, right, bottom)) \n",
    "    cropped_image.save(os.path.join(crop_folder, str(ind + 1) +'.jpg'), 'JPEG')\n",
    "\n",
    "print(\"end\")"
   ]
  },
  {
   "cell_type": "code",
   "execution_count": null,
   "id": "59dfa621-8960-4882-900e-e84ed56e32f1",
   "metadata": {},
   "outputs": [],
   "source": [
    "#images[0]"
   ]
  },
  {
   "cell_type": "code",
   "execution_count": null,
   "id": "6348a3f6-e1be-415b-8189-5457b03b130b",
   "metadata": {},
   "outputs": [],
   "source": []
  },
  {
   "cell_type": "code",
   "execution_count": null,
   "id": "41dccae3-42bf-47a2-b213-c8bafa92cb14",
   "metadata": {},
   "outputs": [],
   "source": []
  },
  {
   "cell_type": "code",
   "execution_count": null,
   "id": "85cc4213-e77a-4461-b390-8abe8ebac5ae",
   "metadata": {},
   "outputs": [],
   "source": []
  },
  {
   "cell_type": "code",
   "execution_count": null,
   "id": "23a29697-c8bd-4603-bae1-0d1a78646a3c",
   "metadata": {},
   "outputs": [],
   "source": []
  },
  {
   "cell_type": "code",
   "execution_count": null,
   "id": "4d761b80-c7a1-4e02-afcb-091a3e01bfc2",
   "metadata": {},
   "outputs": [],
   "source": [
    "pdfs_folder = os.path.join(reports_folder, \"pdfs\")"
   ]
  },
  {
   "cell_type": "code",
   "execution_count": null,
   "id": "6c8665df-3667-49d7-918e-6c1721f3edd3",
   "metadata": {},
   "outputs": [],
   "source": [
    "filenames = os.listdir(pdfs_folder)"
   ]
  },
  {
   "cell_type": "code",
   "execution_count": null,
   "id": "94850875-fd6b-4081-9605-b9d4c01edcfd",
   "metadata": {},
   "outputs": [],
   "source": [
    "filenames = [os.path.join(pdfs_folder, x) for x in os.listdir(pdfs_folder)]"
   ]
  },
  {
   "cell_type": "code",
   "execution_count": null,
   "id": "5d1f304c-f9d4-4d3a-882c-84b7c5d57771",
   "metadata": {},
   "outputs": [],
   "source": [
    "filenames"
   ]
  },
  {
   "cell_type": "code",
   "execution_count": null,
   "id": "ac3ed37e-cec0-4112-8d02-6bdca4ad0ee9",
   "metadata": {},
   "outputs": [],
   "source": [
    "reports_folder.sort(key=lambda x: os.path.getmtime(x))"
   ]
  },
  {
   "cell_type": "code",
   "execution_count": null,
   "id": "1d279da0-0662-4ec1-81b8-72622bc4865a",
   "metadata": {},
   "outputs": [],
   "source": [
    "filenames.sort(key=os.path.getctime)"
   ]
  },
  {
   "cell_type": "code",
   "execution_count": null,
   "id": "a02083c1-8e41-430b-9344-41ed95b74f0b",
   "metadata": {},
   "outputs": [],
   "source": [
    "[x.split(\"/\")[-1] for x in filenames]"
   ]
  },
  {
   "cell_type": "code",
   "execution_count": null,
   "id": "4e36d3cb-6510-450f-a6a2-feba37a19acc",
   "metadata": {},
   "outputs": [],
   "source": []
  },
  {
   "cell_type": "code",
   "execution_count": null,
   "id": "13535469",
   "metadata": {},
   "outputs": [],
   "source": [
    "pdfs_folder = os.path.join(reports_folder, \"pdfs\")"
   ]
  },
  {
   "cell_type": "code",
   "execution_count": null,
   "id": "f9caa440",
   "metadata": {},
   "outputs": [],
   "source": [
    "from PyPDF2 import PdfWriter, PdfReader"
   ]
  },
  {
   "cell_type": "code",
   "execution_count": null,
   "id": "0913271c",
   "metadata": {},
   "outputs": [],
   "source": [
    "filename_pdfs = os.listdir(pdfs_folder)"
   ]
  },
  {
   "cell_type": "code",
   "execution_count": null,
   "id": "408aa33d",
   "metadata": {},
   "outputs": [],
   "source": [
    "for filename_pdf in filename_pdfs[0:1]:\n",
    "    print(filename_pdf)\n",
    "\n",
    "    with open(os.path.join(pdfs_folder, filename_pdf), \"rb\") as in_f:\n",
    "        input1 = PdfReader(in_f)\n",
    "        output = PdfWriter()\n",
    "        \n",
    "        numPages = len(input1.pages)\n",
    "        print(\"document has %s pages.\" % numPages)\n",
    "\n",
    "        for i in range(numPages):\n",
    "            page = input1.pages[i]\n",
    "            print(page.mediabox.getUpperRight_x(), page.mediaBox.getUpperRight_y())\n",
    "            page.trimBox.lowerLeft = (25, 25)\n",
    "            page.trimBox.upperRight = (225, 225)\n",
    "            page.cropBox.lowerLeft = (50, 50)\n",
    "            page.cropBox.upperRight = (200, 200)\n",
    "            output.addPage(page)"
   ]
  },
  {
   "cell_type": "code",
   "execution_count": null,
   "id": "7fcf724a",
   "metadata": {},
   "outputs": [],
   "source": [
    "\n",
    "\n",
    "\n",
    "    with open(\"out.pdf\", \"wb\") as out_f:\n",
    "        output.write(out_f)"
   ]
  },
  {
   "cell_type": "code",
   "execution_count": null,
   "id": "20100ff1",
   "metadata": {},
   "outputs": [],
   "source": []
  },
  {
   "cell_type": "code",
   "execution_count": null,
   "id": "5bef5b16",
   "metadata": {},
   "outputs": [],
   "source": []
  },
  {
   "cell_type": "code",
   "execution_count": null,
   "id": "2e9d7a44-336a-4dc2-a697-868b37a9f858",
   "metadata": {},
   "outputs": [],
   "source": []
  }
 ],
 "metadata": {
  "kernelspec": {
   "display_name": "Python 3 (ipykernel)",
   "language": "python",
   "name": "python3"
  },
  "language_info": {
   "codemirror_mode": {
    "name": "ipython",
    "version": 3
   },
   "file_extension": ".py",
   "mimetype": "text/x-python",
   "name": "python",
   "nbconvert_exporter": "python",
   "pygments_lexer": "ipython3",
   "version": "3.12.2"
  }
 },
 "nbformat": 4,
 "nbformat_minor": 5
}
