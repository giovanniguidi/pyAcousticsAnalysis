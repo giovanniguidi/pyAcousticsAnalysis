{
 "cells": [
  {
   "cell_type": "code",
   "execution_count": 3,
   "id": "82f9e80c",
   "metadata": {},
   "outputs": [],
   "source": [
    "import numpy as np\n",
    "#import matplotlib.pyplot as plt\n",
    "#import matplotlib as mpl\n",
    "#mpl.rcParams['axes.linewidth'] = 2\n",
    "#import pandas as pd\n",
    "#import math \n",
    "import os\n",
    "import pickle\n",
    "#import scipy.ndimage as ndimage\n",
    "#from matplotlib.ticker import AutoMinorLocator\n",
    "import json\n",
    "import sys\n",
    "\n",
    "#project_folder = \"C:\\\\Users\\\\giogu\\\\Documents\\\\Acustica\\\\python_routines\" \n",
    "#sys.path.append(project_folder)\n",
    "\n",
    "sys.path.append(\"../../\")\n",
    "\n",
    "from pyAcousticsAnalysis.instruments.LD_831.read_data import read_LD_831_data\n",
    "from pyAcousticsAnalysis.instruments.commons import read_preprocessed_data#, get_masks\n",
    "from pyAcousticsAnalysis.utils.helper_functions import get_mean_levels, get_min_levels, generate_freq_third_octaves, logarithmic_average\n",
    "#from pyEnvAcoustics.plotting.plot_functions import plot_mean_Leq, get_freq_x_ticks\n",
    "from pyAcousticsAnalysis.plotting.plot_SPL import plot_SPL\n",
    "from pyAcousticsAnalysis.plotting.plot_time_history import plot_time_history\n",
    "from pyAcousticsAnalysis.plotting.plot_min_SPL import plot_min_SPL\n",
    "from pyAcousticsAnalysis.plotting.helper_functions import calculate_quantiles, calculate_global_quantities\n",
    "from pyAcousticsAnalysis.plotting.latex_functions import create_latex, merge_pdfs\n",
    "\n",
    "%load_ext autoreload\n",
    "%autoreload 2"
   ]
  },
  {
   "cell_type": "markdown",
   "id": "f4dc8a59",
   "metadata": {},
   "source": [
    "### Folders"
   ]
  },
  {
   "cell_type": "code",
   "execution_count": 4,
   "id": "147d1ca6",
   "metadata": {},
   "outputs": [],
   "source": [
    "base_folder = \"../../formificio_Padova\""
   ]
  },
  {
   "cell_type": "code",
   "execution_count": 5,
   "id": "6b64cb6f",
   "metadata": {},
   "outputs": [],
   "source": [
    "foto_folder =  os.path.join(base_folder, \"foto\").replace(\"\\\\\", \"/\")\n",
    "logo_folder =  os.path.join(base_folder, \"logo\").replace(\"\\\\\", \"/\")\n",
    "reports_folder =  os.path.join(base_folder, \"reports\").replace(\"\\\\\", \"/\")\n",
    "preprocessed_folder = os.path.join(reports_folder, \"preprocessed\").replace(\"\\\\\", \"/\")\n",
    "data_folder = os.path.join(reports_folder, \"data\").replace(\"\\\\\", \"/\")\n",
    "\n",
    "plots_folder = os.path.join(reports_folder, \"plots\").replace(\"\\\\\", \"/\")\n",
    "os.makedirs(plots_folder, exist_ok=True) "
   ]
  },
  {
   "cell_type": "code",
   "execution_count": 47,
   "id": "9090685b",
   "metadata": {
    "scrolled": true
   },
   "outputs": [
    {
     "name": "stderr",
     "output_type": "stream",
     "text": [
      "<>:28: SyntaxWarning: invalid escape sequence '\\_'\n",
      "<>:28: SyntaxWarning: invalid escape sequence '\\_'\n",
      "/tmp/ipykernel_12784/1872488630.py:28: SyntaxWarning: invalid escape sequence '\\_'\n",
      "  \"-nome!misura-\": nome_misura.replace(\"_\", \"\\_\"),\n"
     ]
    },
    {
     "name": "stdout",
     "output_type": "stream",
     "text": [
      "831_0003315-20240314 164649-447TH_M.008.xlsx\n",
      "831_0003315-20240314 170303-447TH_M.009.xlsx\n",
      "831_0003315-20240314 171901-447TH_M.010.xlsx\n",
      "831_0003315-20240314 173756-447TH_M.012.xlsx\n",
      "831_0003315-20240314 175343-447TH_M.013.xlsx\n",
      "831_0003315-20240314 181055-447TH_M.014.xlsx\n",
      "831_0003315-20240314 182706-447TH_M.015.xlsx\n",
      "end\n"
     ]
    }
   ],
   "source": [
    "with open(os.path.join(data_folder, \"metadata.json\"), 'r') as f:\n",
    "    metadata = json.load(f)\n",
    "\n",
    "filenames = sorted([x for x in os.listdir(preprocessed_folder) if x.endswith(\".xlsx\")])\n",
    "\n",
    "out_list = []\n",
    "\n",
    "for filename in filenames[:]:\n",
    "    print(filename)\n",
    "    nome_misura = filename.split(\"-\")[-1].replace(\".xlsx\", \".s\")\n",
    "    file_path = os.path.join(preprocessed_folder, filename)\n",
    "    \n",
    "#    df = read_LD_831_data(file_path)\n",
    "    df = read_preprocessed_data(file_path)\n",
    "        \n",
    "    #plot\n",
    "    plot_SPL(nome_misura, filename, df, plots_folder, show = False)\n",
    "    plot_time_history(nome_misura, filename, df, plots_folder, find_impulses = False, show = False)    \n",
    "    plot_min_SPL(nome_misura, filename, df, plots_folder, show = False)\n",
    "    quantiles = calculate_quantiles(df)\n",
    "    global_quantities = calculate_global_quantities(df)\n",
    "#    print(quantiles)\n",
    "    \n",
    "    out_dict = {\"filename\": filename, \n",
    "                \"fields\": \n",
    "                    {\n",
    "                    \"-logo-\": logo_folder + \"/\" + os.listdir(logo_folder)[0][:-4], \n",
    "                    \"-nome!misura-\": nome_misura.replace(\"_\", \"\\_\"), \n",
    "                   \"-data!ora-\": str(df.loc[0, 'Data']),\n",
    "                    \"-SPL!plot-\": plots_folder + \"/\" + filename[:-5] + \"_SPL\",                       \n",
    "#                    \"-time!history!plot-\": \"../plots/\" + filename[:-5] + \"_time_history\",\n",
    "                    \"-time!history!plot-\":  plots_folder + \"/\" +filename[:-5] + \"_time_history\",\n",
    "                    \"-SPL!min!plot-\":  plots_folder + \"/\" + filename[:-5] + \"_SPL_min\"\n",
    "                    }\n",
    "               }    \n",
    "    \n",
    "    #add quantiles\n",
    "    out_dict['fields'].update(quantiles)\n",
    "\n",
    "    #add global_quantities\n",
    "    out_dict['fields'].update(global_quantities)\n",
    "    \n",
    "    #add metadata    \n",
    "    metadata_misura = [x for x in metadata if x['filename'] == out_dict['filename']][0]\n",
    "    out_dict['fields'].update({k: v for k, v in metadata_misura.items() if k != \"filename\"})\n",
    "\n",
    "    #update foto path\n",
    "    out_dict['fields']['-foto-'] = foto_folder + \"/\" + out_dict['fields']['-foto-']\n",
    "\n",
    "    #append results\n",
    "    out_list.append(out_dict)\n",
    "\n",
    "#    print(df[df['masked'] == True].shape)\n",
    "    \n",
    "with open(os.path.join(data_folder, \"latex_data.json\"), 'w') as f:\n",
    "    json.dump(out_list, f)\n",
    "\n",
    "print(\"end\")"
   ]
  },
  {
   "cell_type": "markdown",
   "id": "2a985c64",
   "metadata": {},
   "source": [
    "### Create latex"
   ]
  },
  {
   "cell_type": "code",
   "execution_count": 48,
   "id": "797eda0e",
   "metadata": {},
   "outputs": [],
   "source": [
    "templates_folder = os.path.join(\"../\" \"assets\", \"latex_templates\", \"ambientale_447\")"
   ]
  },
  {
   "cell_type": "code",
   "execution_count": 49,
   "id": "9ee3c98a",
   "metadata": {},
   "outputs": [
    {
     "name": "stdout",
     "output_type": "stream",
     "text": [
      "creating latex for: 831_0003315-20240314 164649-447TH_M.008.xlsx\n",
      "creating latex for: 831_0003315-20240314 170303-447TH_M.009.xlsx\n",
      "creating latex for: 831_0003315-20240314 171901-447TH_M.010.xlsx\n",
      "creating latex for: 831_0003315-20240314 173756-447TH_M.012.xlsx\n",
      "creating latex for: 831_0003315-20240314 175343-447TH_M.013.xlsx\n",
      "creating latex for: 831_0003315-20240314 181055-447TH_M.014.xlsx\n",
      "creating latex for: 831_0003315-20240314 182706-447TH_M.015.xlsx\n",
      "- all latex files created\n"
     ]
    }
   ],
   "source": [
    "create_latex(templates_folder, reports_folder)"
   ]
  },
  {
   "cell_type": "code",
   "execution_count": 51,
   "id": "5bef5b16",
   "metadata": {},
   "outputs": [
    {
     "name": "stdout",
     "output_type": "stream",
     "text": [
      "merging 831_0003315-20240314 170303-447TH_M.009.pdf\n",
      "merging 831_0003315-20240314 173756-447TH_M.012.pdf\n",
      "merging 831_0003315-20240314 182706-447TH_M.015.pdf\n",
      "merging 831_0003315-20240314 171901-447TH_M.010.pdf\n",
      "merging 831_0003315-20240314 164649-447TH_M.008.pdf\n",
      "merging 831_0003315-20240314 175343-447TH_M.013.pdf\n",
      "merging 831_0003315-20240314 181055-447TH_M.014.pdf\n",
      "- all pdf merged\n"
     ]
    }
   ],
   "source": [
    "merge_pdfs(reports_folder, out_filename = \"misure.pdf\")"
   ]
  },
  {
   "cell_type": "code",
   "execution_count": null,
   "id": "2e9d7a44-336a-4dc2-a697-868b37a9f858",
   "metadata": {},
   "outputs": [],
   "source": []
  }
 ],
 "metadata": {
  "kernelspec": {
   "display_name": "Python 3 (ipykernel)",
   "language": "python",
   "name": "python3"
  },
  "language_info": {
   "codemirror_mode": {
    "name": "ipython",
    "version": 3
   },
   "file_extension": ".py",
   "mimetype": "text/x-python",
   "name": "python",
   "nbconvert_exporter": "python",
   "pygments_lexer": "ipython3",
   "version": "3.12.2"
  }
 },
 "nbformat": 4,
 "nbformat_minor": 5
}
